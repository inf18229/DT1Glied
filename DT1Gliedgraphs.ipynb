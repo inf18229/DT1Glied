{
 "cells": [
  {
   "cell_type": "code",
   "execution_count": 2,
   "metadata": {},
   "outputs": [],
   "source": [
    "%matplotlib notebook\n",
    "from scipy.stats import chi2, t, norm\n",
    "import matplotlib.pyplot as plt\n",
    "import numpy as np\n",
    "\n",
    "from ipywidgets import interact, interactive, fixed, interact_manual\n",
    "import ipywidgets as widgets\n",
    "from IPython.display import display"
   ]
  },
  {
   "cell_type": "markdown",
   "metadata": {
    "slideshow": {
     "slide_type": "slide"
    }
   },
   "source": [
    "# DT1-Glied\n",
    "###### Von Stefan Maier\n"
   ]
  },
  {
   "cell_type": "markdown",
   "metadata": {},
   "source": [
    "## Sprungantwort\n"
   ]
  },
  {
   "cell_type": "code",
   "execution_count": 12,
   "metadata": {
    "scrolled": true
   },
   "outputs": [
    {
     "data": {
      "application/vnd.jupyter.widget-view+json": {
       "model_id": "fa319a628eef4e968d77dff9f8f5b69e",
       "version_major": 2,
       "version_minor": 0
      },
      "text/plain": [
       "interactive(children=(FloatSlider(value=2.0, description='K', max=30.0, min=1.0), FloatSlider(value=2.0, descr…"
      ]
     },
     "metadata": {},
     "output_type": "display_data"
    }
   ],
   "source": [
    "def DT1SprungAntwort(K = 2, T = 2, time=20):\n",
    "    t=np.arange(-10,time,0.05)\n",
    "    tangentenwerte=np.arange(0,T+1,0.05)\n",
    "    h=(K/T)*np.exp(-t/T)*np.heaviside(t,0)\n",
    "    tangente=-(K/(T*T))*tangentenwerte+K/T\n",
    "    fig, ax, = plt.subplots(1, 1)\n",
    "    plt.plot(tangentenwerte,tangente,\"--\",label=\"Tangente an t=0\")\n",
    "    plt.axvline(x=T,label=\"Wert von T\",color=\"r\")\n",
    "    ax.plot(t,h,label=\"Sprungfunktion h(x)\")\n",
    "    ax.set_xlabel(\"Zeit(t)\")\n",
    "    ax.set_ylabel(\"Wert von h(t)\")\n",
    "    ax.grid(True)\n",
    "    ax.legend(loc='best', frameon=False)\n",
    "    plt.show()\n",
    "    print(\"Peak an t=0: \")\n",
    "    print(K/T)\n",
    "    print(\"Steigung an t=0\")\n",
    "    print(-K/(T*T))\n",
    "    print(\"Berechneter Schnittpunkt mit der X-Achse\")\n",
    "    print(T)\n",
    "    print(\"Wert an der Stelle h(T)\")\n",
    "    print((K/T)*np.exp(-T/T))\n",
    "DT1SprungantwortSimulator = interactive( DT1SprungAntwort,\n",
    "                                      K = (1,30,0.1),\n",
    "                                      T = (1,30,0.1),\n",
    "                                      time=(1,1000,1))\n",
    "display(DT1SprungantwortSimulator)"
   ]
  },
  {
   "cell_type": "markdown",
   "metadata": {},
   "source": [
    "## Lapalace Transformatios für die Übertragungsfunktion"
   ]
  },
  {
   "cell_type": "code",
   "execution_count": 9,
   "metadata": {},
   "outputs": [
    {
     "data": {
      "application/vnd.jupyter.widget-view+json": {
       "model_id": "96431914a45d466a8689985b21d9790d",
       "version_major": 2,
       "version_minor": 0
      },
      "text/plain": [
       "interactive(children=(FloatSlider(value=2.0, description='K', max=30.0, min=1.0), FloatSlider(value=2.0, descr…"
      ]
     },
     "metadata": {},
     "output_type": "display_data"
    }
   ],
   "source": [
    "def Uebertragungsfunktion(K = 2,T = 2,time=20):\n",
    "    s=np.arange(-10,time,0.05)\n",
    "    G=(K*s)/(1+T*s)\n",
    "    fig2, ax2, = plt.subplots(1, 1)\n",
    "    ax2.plot(s,G)\n",
    "    plt.show()\n",
    "UebertragungsfunktionsSimulator = interactive(Uebertragungsfunktion,\n",
    "                                      K = (1,30,0.1),\n",
    "                                      T = (1,30,0.1),\n",
    "                                      time=(1,1000,1))\n",
    "display(UebertragungsfunktionsSimulator)"
   ]
  },
  {
   "cell_type": "code",
   "execution_count": null,
   "metadata": {},
   "outputs": [],
   "source": []
  }
 ],
 "metadata": {
  "celltoolbar": "Slideshow",
  "kernelspec": {
   "display_name": "Python 3",
   "language": "python",
   "name": "python3"
  },
  "language_info": {
   "codemirror_mode": {
    "name": "ipython",
    "version": 3
   },
   "file_extension": ".py",
   "mimetype": "text/x-python",
   "name": "python",
   "nbconvert_exporter": "python",
   "pygments_lexer": "ipython3",
   "version": "3.7.5"
  }
 },
 "nbformat": 4,
 "nbformat_minor": 4
}

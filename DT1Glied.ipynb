{
 "cells": [
  {
   "cell_type": "code",
   "execution_count": 1,
   "metadata": {
    "slideshow": {
     "slide_type": "fragment"
    }
   },
   "outputs": [],
   "source": [
    "%matplotlib notebook\n",
    "from scipy.stats import chi2, t, norm\n",
    "import matplotlib.pyplot as plt\n",
    "import numpy as np\n",
    "\n",
    "from ipywidgets import interact, interactive, fixed, interact_manual\n",
    "import ipywidgets as widgets\n",
    "from IPython.display import display"
   ]
  },
  {
   "cell_type": "markdown",
   "metadata": {
    "slideshow": {
     "slide_type": "slide"
    }
   },
   "source": [
    "# DT1-Glied\n",
    "\n",
    "\n",
    "\n",
    "<center>für Signale und Systeme 1</center>\n",
    "<br></br>\n",
    "<center>von Stefan Maier (Matrikelnr.:7514857)</center>"
   ]
  },
  {
   "cell_type": "markdown",
   "metadata": {
    "slideshow": {
     "slide_type": "slide"
    }
   },
   "source": [
    "## Inhalt\n",
    "- Charakteristische Gleichung\n",
    "- Blockschaltbild Darstellung\n",
    "- Sprungantwort des DT1 Glieds\n",
    " - Kenngrößen der Sprungantwort\n",
    "- Übertragungsfunktion mittels Laplace Transformation\n",
    "- Übertragungsfunktion mittels Fourie Transformation\n",
    " - Eingeschaften der Übertragungsfunktion\n",
    "- Amplituden-/ und Phasengang im Bodediagramm\n",
    "- DT1 Glieder in der Praxis\n",
    " - Beispiel: Feder Dämpfer System\n",
    " - Beispiel: Analoger Hochpass\n"
   ]
  },
  {
   "cell_type": "markdown",
   "metadata": {
    "slideshow": {
     "slide_type": "slide"
    }
   },
   "source": [
    "## Charakteristische Gleichung\n",
    "\n",
    "- Ein DT1-Glied ist ein Differenzierer mit Verzögerung 1.Ordnung\n",
    "- Folgende Differenzengleichung beschreibt das DT1 Glied\n",
    "\n",
    "<center>$y(t)=K\\cdot \\dot{u}(t)-T\\cdot \\dot{y}(t) \\>$ mit $T>0$</center> \n",
    "\n",
    "- $K$ ist Verstärkung des Eingang\n",
    "- $T$ ist Zeitkonstante des System (s. Folien zur Sprungantwort)\n",
    "- Ist ein zeitkontinuierliches LZI-System"
   ]
  },
  {
   "cell_type": "markdown",
   "metadata": {
    "slideshow": {
     "slide_type": "slide"
    }
   },
   "source": [
    "## Blockschaltbild Darstellung\n",
    "\n",
    "- Ein DT1 Glied lässt sich schematisch in einem Blockschaltbild aus Kombination eines D-Glied mit einem PT1-Glied kombiniere\n",
    " - Dies lässt sich aus den Gleichungen des D-Gliedes und des PT1-Gliedes ableiten\n",
    "\n",
    "Somit lässt sich ein DT1-Glied folgendermaßen in einem Blockschaltbild beschreiben:\n",
    "\n",
    "<img src=\"./Bilder/Darstellung_mit_PT_und_D0_Glied.PNG\" width=\"750px\"></img>\n",
    "\n",
    "Die Darstellung mit Elementaren Übertragungsglieder sieht wiefolgt aus:\n",
    "<img src=\"./Bilder/Elementare_Übetragrungsglieder.PNG\" width=\"750px\"></img>"
   ]
  },
  {
   "cell_type": "markdown",
   "metadata": {
    "slideshow": {
     "slide_type": "slide"
    }
   },
   "source": [
    "## Sprungantwort des DT1-Glieds\n",
    "\n",
    "- Aus dem Vorwärtsproblem und Anfangswertproblem lässt sich mittels der charakteristischen Differentialgleichung die Sprungantwort berechnen:\n",
    "\n",
    "<b>Sprungantwort</b>\n",
    "<center>$h(t)=\\frac{K}{T} \\cdot e^\\frac{-t}{T}\\cdot \\sigma(t)$</center>\n",
    "\n",
    "- Durch das $\\sigma$ ist zu erkennen das das System Kausal ist und somit nicht vor dem Zeitpunkt 0 angeregt werden kann.\n",
    "- Zum zeitpunkt $t=0$ besitzt das DT1 Glied den Wert $\\frac{K}{T}$ was durch die Konstanten $K$ und $T$ des DT1 Glieds bestimmt werden.\n",
    "\n",
    "\n",
    "<i>Nachfolgend kann anhand einer Interaktiven Graphen die Sprungantwort mit den Parametern $K$ und $T$ eingestellt werden</i>"
   ]
  },
  {
   "cell_type": "code",
   "execution_count": 15,
   "metadata": {
    "slideshow": {
     "slide_type": "slide"
    }
   },
   "outputs": [
    {
     "data": {
      "application/vnd.jupyter.widget-view+json": {
       "model_id": "b9d9606b1c8f4e79b81ee2656cb7367e",
       "version_major": 2,
       "version_minor": 0
      },
      "text/plain": [
       "interactive(children=(FloatSlider(value=2.0, description='K', max=30.0, min=1.0), FloatSlider(value=2.0, descr…"
      ]
     },
     "metadata": {},
     "output_type": "display_data"
    }
   ],
   "source": [
    "def DT1SprungAntwort(K = 2, T = 2, time=20):\n",
    "    t=np.arange(-10,time,0.05)\n",
    "    tangentenwerte=np.arange(0,T+1,0.05)\n",
    "    h=(K/T)*np.exp(-t/T)*np.heaviside(t,0)\n",
    "    tangente=-(K/(T*T))*tangentenwerte+K/T\n",
    "    fig, ax, = plt.subplots(2, 1)\n",
    "    plt.plot(tangentenwerte,tangente,\"--\",label=\"Tangente an t=0\")\n",
    "    plt.axvline(x=T,label=\"Wert von T\",color=\"r\")\n",
    "    ax[1].plot(t,h,label=\"Sprungfunktion h(x)\",color=\"b\")\n",
    "    ax[1].set_title(\"Sprungantwort h(x)\")\n",
    "    ax[1].set_xlabel(\"Zeit(t)\")\n",
    "    ax[1].set_ylabel(\"Wert von h(t)\")\n",
    "    ax[1].grid(True)\n",
    "    ax[1].legend(loc='best', frameon=False)\n",
    "    ax[0].plot(t,np.heaviside(t,0),label=\"Sprungfunktion $\\sigma$\")\n",
    "    ax[0].set_title(\"Sprungsignal $\\sigma(t)$\")\n",
    "    ax[0].set_xlabel(\"Zeit(t)\")\n",
    "    ax[0].set_ylabel(\"Wert von $\\sigma(t)$\")\n",
    "    ax[0].grid(True)\n",
    "    plt.show()\n",
    "    print(\"KENNGROESSEN\")\n",
    "    print(\"Peak an t=0: \")\n",
    "    print(K/T)\n",
    "    print(\"Steigung an t=0\")\n",
    "    print(-K/(T*T))\n",
    "    print(\"Berechneter Schnittpunkt mit der X-Achse\")\n",
    "    print(T)\n",
    "    print(\"Wert an der Stelle h(T)\")\n",
    "    print((K/T)*np.exp(-T/T))\n",
    "DT1SprungantwortSimulator = interactive( DT1SprungAntwort,\n",
    "                                      K = (1,30,0.1),\n",
    "                                      T = (1,30,0.1),\n",
    "                                      time=(1,1000,1))\n",
    "display(DT1SprungantwortSimulator)"
   ]
  },
  {
   "cell_type": "markdown",
   "metadata": {
    "slideshow": {
     "slide_type": "slide"
    }
   },
   "source": [
    "### Kenngrößen der Sprungantwort\n",
    "\n",
    "- Aus dem Graphen lässt sich in orange die Sprungantwort erkennen. Diese Steigt bei $t=0$ mit Maximaler Steigung an und fällt dann über die Zeit exponentiell ab. Folgende Charakteristischen Werte lassen sich aus der Sprungfunktion extrahieren.\n",
    "\n",
    "<b>Peak an $t=0$</b>\n",
    "<center>$h(0)=\\frac{K}{T}$</center>\n",
    "\n",
    "<b>Steigung an der Stelle $t=0$</b>\n",
    "<center>$\\frac{dh}{dt}(t=0)=-\\frac{K}{T^2}$</center>\n",
    "\n",
    "<b>Tangente an der Stelle $t=0$</b>\n",
    "<center>$tang_h(t)=-\\frac{K}{T^2}\\cdot t+\\frac{K}{T}$</center>\n",
    "\n",
    "- Berechnet man hierfür die Nullstelle lässt sich erkennen das die Tangente an $h(0)$ die x-Achse am Wert T schneidet.\n",
    "\n",
    "<b>Wert an der Stelle h(T)</b>\n",
    "\n",
    "<center>$h(T)\\approx\\frac{K}{T}\\cdot 0.37$</center>\n",
    "\n",
    "- Die Sprungantwort ist nach der Zeit $t=T$ auf 37% des Ursprünglichen Peaks von $\\frac{K}{T}$ abgefallen\n",
    "\n",
    "<i>Damit lassen sich die Kenngrößen im obigen Graphen nachfollziehen</i>"
   ]
  },
  {
   "cell_type": "markdown",
   "metadata": {
    "slideshow": {
     "slide_type": "slide"
    }
   },
   "source": [
    "## Übertragungsfunktion mittels Lapalace Transformation\n",
    "\n",
    "mithilfe der Laplace Transformation lässt sich eine Übertragungsfunktion für das DT1 Glied finden. Das Laplace Integral ist wie folgt definiert:\n",
    "<p></p>\n",
    "<b>Laplace Integral:</b>\n",
    "<center>$\\mathscr{L}\\{f(t)\\}=F(s)=\\int_\\infty^\\infty \\! f(t)\\cdot e^{-s \\cdot t}\\mathrm{d}t \\quad (mit:\\quad s=\\sigma + j \\omega \\in   \\mathbb{C})$</center>\n",
    "\n",
    "<p></p>\n",
    "Somit berechnet sich die Übertragungsfunktion aus der Ausgangsgleichung:\n",
    "\n",
    "<p></p>\n",
    "\n",
    "<center>$y(t)+T \\cdot \\frac{dy}{dt}=K \\cdot \\frac{du}{dt}$</center>\n",
    "<p></p>\n",
    "\n",
    "mit\n",
    "<p></p>\n",
    "<center>$G(s)=\\frac{Y(s)}{U(s)} \\quad$ mit $Y(s)$ die Laplace Transformation der Ausgänge und $U(s)$ Laplace Transformation der Eingänge</center>\n",
    "\n",
    "<p></p>\n",
    "zu\n",
    "\n",
    "<p></p>\n",
    "<b>Übertragungsfunktion nach Laplace im Bild/Frequenzbereich</b>\n",
    "<center>$G(s)=\\frac{K \\cdot s}{1+T \\cdot s}\\quad(mit:\\quad s=\\sigma + j \\omega \\in   \\mathbb{C})$</center>"
   ]
  },
  {
   "cell_type": "markdown",
   "metadata": {
    "slideshow": {
     "slide_type": "slide"
    }
   },
   "source": [
    "## Übertragungsfunktion bzw. Frequenzgang mittels Fourietransformation\n",
    "\n",
    "mittels Fourietransformation lässt sich das PT1 Glied in den Bild bzw. Frequenzbereich Transformieren.\n",
    "\n",
    "<b>Fourie Integral:</b>\n",
    "\n",
    "\n",
    "<center>$X(j\\omega)=\\int_\\infty^\\infty \\! f(t)\\cdot e^{-j\\omega t}\\mathrm{d}t$</center>\n",
    "\n",
    "Formel:\n",
    "<center>$G(j\\omega)=\\frac{Y(j\\omega)}{U(j\\omega)} \\quad$ mit $Y(j\\omega)$ die Fourie Transformation der Ausgänge und $U(j\\omega)$ Fourie Transformation der Eingänge</center>\n",
    "\n",
    "\n",
    "Vereinfachte Herleitung:\n",
    "\n",
    "Mittels bereits bekannter Frequenzgänge eines D-Gliedes und PT1-Glieds lässt sich auch leicht der Frequenzgang des DT1-Gliedes herleiten. Durch Multiplikation der Freqenzgänge des D und PT1 Gliedes erält man den Bildbereich / Frequenzbereich des DT1 Glieds\n",
    "\n",
    "<b>Übertragungsfunktion nach Fourie im Bild/Frequenzbereich:</b>\n",
    "<center>$G(j\\omega)=\\frac{j\\omega K}{1+j\\omega T}$</center>"
   ]
  },
  {
   "cell_type": "markdown",
   "metadata": {
    "slideshow": {
     "slide_type": "slide"
    }
   },
   "source": [
    "### Eigenschaften der Übertragungsfunktion im Frequenzbereich\n",
    "\n",
    "- Für sehr <b>niedrige Frequenzen ($\\omega$)</b> verählt sich das Glied wie ein D0 Glied nach:\n",
    "\n",
    "<center>$G(j\\omega)\\approx j\\omega K$</center>\n",
    "\n",
    "Für den Amplitunde und Phase ergibt sich das zu:\n",
    "\n",
    "<center>$\\bigl|G(j\\omega)\\bigl|\\approx\\omega K$</center>\n",
    "<center>$\\varphi\\approx+90^\\circ$</center>\n",
    "\n",
    "- Für sehr <b>hohe Frequenzen ($\\omega$)</b> verhält sich das Glied wie ein P Glied:\n",
    "\n",
    "<center>$G(j\\omega)\\approx \\frac{K}{T}$</center>\n",
    "\n",
    "Damit Ergibt sich für die Amplitude und Phase\n",
    "\n",
    "<center>$\\bigl|G(j\\omega)\\bigl|\\approx V_D \\quad mit  V_D=\\frac{K}{T}$</center>\n",
    "<center>$\\varphi\\approx+0^\\circ$</center>\n",
    "\n",
    "<i>$V_D$ ist die Vorhalteverstärkung abhängig der Systemparameter $K$ und $T$</i>"
   ]
  },
  {
   "cell_type": "markdown",
   "metadata": {
    "slideshow": {
     "slide_type": "slide"
    }
   },
   "source": [
    "## Amplituden-/ und Phasengang im Bodediagramm\n",
    "\n",
    "Die bereits gezeigten Eigenschaften des DT1 Gliedes lassen sich am Bodediagramm genauer veranschaulichen. Hierzu berechnet man durch Betragbildung der Komplexwertigen Funktion $G(j\\omega)$ den Amplitudengan $a_{DT1}(\\omega)$ und den Phasengang $\\varphi_{DT1}(\\omega)$\n",
    "\n",
    "<b>Vereinfachte Herleitung:</b>\n",
    "\n",
    "Der Amplitudengang und Phasengang können auch bereits durch die Kenntnis der Amplitunden-/ und Phasengänge eines D0 und PT1 gliedes abgeleitet werden, indem man die Amplitundengänge bzw. Phasengänge addiert.\n",
    "\n",
    "<center>$a_{DT1}(\\omega)=a_D(\\omega)+a_{PT1}(\\omega)$</center>\n",
    "\n",
    "<center>$\\varphi_{DT1}(\\omega)=\\varphi_{D}(\\omega)+\\varphi_{PT1}(\\omega)$</center>\n",
    "\n",
    "Daraus ergeben sich dann:\n",
    "\n",
    "<b>Amplitudengang</b>\n",
    "\n",
    "<center>$a_{DT1}(\\omega)=\\frac{\\omega K}{\\sqrt{1+(\\omega T)^2}}$</center>\n",
    "\n",
    "\n",
    "<b>Phasengang</b>\n",
    "\n",
    "<center>$\\varphi_{DT1}(\\omega)=arctan(\\frac{1}{\\omega T})$</center>\n",
    "\n",
    "Damit lässt sich ein Bodediagramm mit Logarithmischer Skala auftragen. Sie folgende Folien"
   ]
  },
  {
   "cell_type": "code",
   "execution_count": 17,
   "metadata": {
    "slideshow": {
     "slide_type": "slide"
    }
   },
   "outputs": [
    {
     "data": {
      "application/vnd.jupyter.widget-view+json": {
       "model_id": "b8592ae4048a4130a6f761de6db9b60e",
       "version_major": 2,
       "version_minor": 0
      },
      "text/plain": [
       "interactive(children=(FloatSlider(value=2.0, description='K', max=30.0, min=1.0), FloatSlider(value=2.0, descr…"
      ]
     },
     "metadata": {},
     "output_type": "display_data"
    }
   ],
   "source": [
    "def Bodediagramm(K = 2, T = 2, Max_Freq=100):\n",
    "    w=np.arange(0.01,Max_Freq,0.05)\n",
    "    a=(w*K)/((1+(w*T)**2)**(1/2))\n",
    "    phi=(np.arctan(1/(w*T)))\n",
    "    fig, ax = plt.subplots(2, 1,constrained_layout=True)\n",
    "    fig.suptitle('Bodediagramm', fontsize=16)\n",
    "    ax[0].plot(w,a,label=\"Amplitudengang\")\n",
    "    ax[0].set_title(\"Amplitudengang\")\n",
    "    ax[0].set_xscale(\"log\")\n",
    "    ax[0].set_yscale(\"log\")\n",
    "    ax[0].set_xlabel(\"Frequenz f(Hz)\")\n",
    "    ax[0].set_ylabel(\"Amplitude\")\n",
    "    ax[0].grid(True)\n",
    "    ax[0].legend(loc='best', frameon=False)\n",
    "    ax[1].plot(w,np.degrees(phi),label=\"Phasengang\")\n",
    "    ax[0].set_title(\"Phasengang\")\n",
    "    ax[1].set_xscale(\"log\")\n",
    "    ax[1].set_xlabel(\"Frequenz f(Hz)\")\n",
    "    ax[1].set_ylabel(\"Phase in $\\circ$\")\n",
    "    ax[1].grid(True)\n",
    "    ax[1].legend(loc='best', frameon=False)\n",
    "    plt.show()\n",
    "BodediagrammSimulator = interactive( Bodediagramm,\n",
    "                                      K = (1,30,0.1),\n",
    "                                      T = (1,30,0.1),\n",
    "                                      Max_Freq=(1,100000,1))\n",
    "display(BodediagrammSimulator)"
   ]
  },
  {
   "cell_type": "markdown",
   "metadata": {
    "slideshow": {
     "slide_type": "slide"
    }
   },
   "source": [
    "## DT1 Glieder in der Praxis\n",
    "\n",
    "In der Praxis lassen sich oft Systeme finden, die sich mit einem DT1 Glied beschreiben lassen. Nachfolgend Beispiele für DT1 Glieder."
   ]
  },
  {
   "cell_type": "markdown",
   "metadata": {
    "slideshow": {
     "slide_type": "slide"
    }
   },
   "source": [
    "### Beispiel: Feder Dämpfer System\n",
    "\n",
    "Wir betrachten folgendes System eines Feder Dämüfers, das über die Zeit $t$ um die Strecke $x(t)$ ausgelenkt wird.\n",
    "\n",
    "<img src=\".\\Bilder\\FederDaempferSystem.PNG\"></img>\n",
    "\n",
    "Eine Feder die über die Zeit $t$ mit der Kraft $F_C(t)$ ausgelenkt wird ändert seine Auslenkung vom Ruhezustand mit $x_C(t)$ während hingegen ein Dämpfer seine Auslenkung mit $x_D(t)$ beschreibt. Die Kräfte für Feder und Dämpfer lassen sich nach obiger Formel ausrechenen.\n",
    "\n",
    "Es gilt für die Auslenkung des Gesamten Systems für eine komplexwertige Zahl $s\\in \\mathbb{C}$ folgender Zusammenhang:\n",
    "\n",
    "<center>$X_{ges}(s)=X_C(s)+X_D(s)$</center>\n",
    "\n",
    "Setzt man die Werte aus Formel für X von oben ein ergibt sich die Gleichung zu:\n",
    "\n",
    "<center>$X_{ges}(s)=(\\frac{1}{c}+\\frac{1}{D\\cdot s})\\cdot F(s)$</center>\n",
    "\n",
    "Wenn man nun das Übertagungsverhalten Analysieren will bilden wir den Quotienten aus der obigen Formel zu:\n",
    "\n",
    "<center>$\\frac{F(s)}{X_{ges}(s)}=\\frac{D\\cdot s}{1+\\frac{D}{c}\\cdot s}$</center>\n",
    "\n",
    "Damit lässt sich das Übertragungsverahlten von Kraft zu Weg eines Feder Dämpfer Systems mittels eines DT1 Gliedes und korrekt eingestellter Werte für $K=D$ und $T=\\frac{D}{c}$ abbilden."
   ]
  },
  {
   "cell_type": "code",
   "execution_count": 18,
   "metadata": {},
   "outputs": [
    {
     "data": {
      "application/vnd.jupyter.widget-view+json": {
       "model_id": "8fadb91e7f4c424f81a24685ead14060",
       "version_major": 2,
       "version_minor": 0
      },
      "text/plain": [
       "interactive(children=(FloatSlider(value=2.0, description='D', max=30.0, min=1.0), FloatSlider(value=2.0, descr…"
      ]
     },
     "metadata": {},
     "output_type": "display_data"
    }
   ],
   "source": [
    "def BodediagrammDC(D = 2, C = 2, Max_Freq=100):\n",
    "    w=np.arange(0.01,Max_Freq,0.05)\n",
    "    a=(w*D)/((1+(w*(D/C))**2)**(1/2))\n",
    "    phi=(np.arctan(1/(w*(D/C))))\n",
    "    fig, ax = plt.subplots(2, 1,constrained_layout=True)\n",
    "    fig.suptitle('Bodediagramm für Feder Dämpfersystem', fontsize=16)\n",
    "    ax[0].plot(w,a,label=\"Amplitudengang\")\n",
    "    ax[0].set_title(\"Amplitudengang\")\n",
    "    ax[0].set_xscale(\"log\")\n",
    "    ax[0].set_yscale(\"log\")\n",
    "    ax[0].set_xlabel(\"Frequenz f(Hz)\")\n",
    "    ax[0].set_ylabel(\"Amplitude\")\n",
    "    ax[0].grid(True)\n",
    "    ax[0].legend(loc='best', frameon=False)\n",
    "    ax[1].plot(w,np.degrees(phi),label=\"Phasengang\")\n",
    "    ax[0].set_title(\"Phasengang\")\n",
    "    ax[1].set_xscale(\"log\")\n",
    "    ax[1].set_xlabel(\"Frequenz f(Hz)\")\n",
    "    ax[1].set_ylabel(\"Phase in $\\circ$\")\n",
    "    ax[1].grid(True)\n",
    "    ax[1].legend(loc='best', frameon=False)\n",
    "    plt.show()\n",
    "BodediagrammDCSimulator = interactive( BodediagrammDC,\n",
    "                                      D = (1,30,0.1),\n",
    "                                      C = (1,30,0.1),\n",
    "                                      Max_Freq=(1,100000,1))\n",
    "display(BodediagrammDCSimulator)"
   ]
  },
  {
   "cell_type": "markdown",
   "metadata": {
    "slideshow": {
     "slide_type": "slide"
    }
   },
   "source": [
    "### Beispiel: Analoger Hochpass\n",
    "\n",
    "Wir betrachten zunächst einen einfachen passiven RC Hochpassfilter nach folgendem Schema:\n",
    "\n",
    "<img src=\".\\Bilder\\RCHochpass.PNG\"></img>\n",
    "\n",
    "Nach dem Kirchoffschen Gesetztn folgt aus der Maschengleichung für die Spannungen:\n",
    "\n",
    "<center>$u_E(s)=u_C(s)+u_R(s) \\quad mit \\quad s \\in \\mathbb{C}$</center>\n",
    "\n",
    "Mit entsprechenden Formel Eingesetzt ergibt sich daraus :\n",
    "\n",
    "<center>$u_E(s)=\\frac{1}{C \\cdot s}\\cdot \\frac{u_A(s)}{R}+u_A(s)$</center>\n",
    "\n",
    "Die Übertragungsfunktion:\n",
    "\n",
    "<center>$G(s)=\\frac{u_A(s)}{u_E(s)}=\\frac{R\\cdot C \\cdot s}{1+R\\cdot C \\cdot s}$</center>\n",
    "\n",
    "somit ergibt sich für den Frequenzgant mit der Grenzfrequenz des RC gliedes $\\omega_G=\\frac{1}{R\\cdot C}$ zu:\n",
    "\n",
    "<center>$G(j\\omega)=\\frac{u_A(s)}{u_E(s)}=\\frac{j\\cdot \\frac{\\omega}{\\omega_G}}{1+j\\cdot \\frac{\\omega}{\\omega_G}}$</center>\n",
    "\n",
    "Somit lässt sich auch dieses System mittels DT1 Glied und entsprechende Wert für $K=T=R \\cdot C= \\frac{1}{\\omega_G}$ abbilden."
   ]
  },
  {
   "cell_type": "code",
   "execution_count": 20,
   "metadata": {},
   "outputs": [
    {
     "data": {
      "application/vnd.jupyter.widget-view+json": {
       "model_id": "e059863df731497d94ea3eca08b39b77",
       "version_major": 2,
       "version_minor": 0
      },
      "text/plain": [
       "interactive(children=(FloatSlider(value=2.0, description='R', max=30.0, min=1.0), FloatSlider(value=2.0, descr…"
      ]
     },
     "metadata": {},
     "output_type": "display_data"
    }
   ],
   "source": [
    "def BodediagrammRC(R = 2, C = 2, Max_Freq=100):\n",
    "    w=np.arange(0.01,Max_Freq,0.05)\n",
    "    a=(w*R*C)/((1+(w*R*C)**2)**(1/2))\n",
    "    phi=(np.arctan(1/(w*R*C)))\n",
    "    fig, ax = plt.subplots(2, 1,constrained_layout=True)\n",
    "    fig.suptitle('Bodediagramm für Analogen Hochpass', fontsize=16)\n",
    "    ax[0].plot(w,a,label=\"Amplitudengang\")\n",
    "    ax[0].set_title(\"Amplitudengang\")\n",
    "    ax[0].set_xscale(\"log\")\n",
    "    ax[0].set_yscale(\"log\")\n",
    "    ax[0].set_xlabel(\"Frequenz f(Hz)\")\n",
    "    ax[0].set_ylabel(\"Amplitude\")\n",
    "    ax[0].grid(True)\n",
    "    ax[0].legend(loc='best', frameon=False)\n",
    "    ax[1].plot(w,np.degrees(phi),label=\"Phasengang\")\n",
    "    ax[0].set_title(\"Phasengang\")\n",
    "    ax[1].set_xscale(\"log\")\n",
    "    ax[1].set_xlabel(\"Frequenz f(Hz)\")\n",
    "    ax[1].set_ylabel(\"Phase in $\\circ$\")\n",
    "    ax[1].grid(True)\n",
    "    ax[1].legend(loc='best', frameon=False)\n",
    "    plt.show()\n",
    "BodediagrammRCSimulator = interactive( BodediagrammRC,\n",
    "                                      R = (1,30,0.1),\n",
    "                                      C = (1,30,0.1),\n",
    "                                      Max_Freq=(1,100000,1))\n",
    "display(BodediagrammRCSimulator)"
   ]
  },
  {
   "cell_type": "code",
   "execution_count": null,
   "metadata": {},
   "outputs": [],
   "source": []
  }
 ],
 "metadata": {
  "celltoolbar": "Slideshow",
  "kernelspec": {
   "display_name": "Python 3",
   "language": "python",
   "name": "python3"
  },
  "language_info": {
   "codemirror_mode": {
    "name": "ipython",
    "version": 3
   },
   "file_extension": ".py",
   "mimetype": "text/x-python",
   "name": "python",
   "nbconvert_exporter": "python",
   "pygments_lexer": "ipython3",
   "version": "3.7.5"
  }
 },
 "nbformat": 4,
 "nbformat_minor": 4
}

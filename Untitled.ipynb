{
 "cells": [
  {
   "cell_type": "code",
   "execution_count": 42,
   "metadata": {},
   "outputs": [],
   "source": [
    "%matplotlib notebook\n",
    "from scipy.stats import chi2, t, norm\n",
    "import matplotlib.pyplot as plt\n",
    "import numpy as np\n",
    "\n",
    "from ipywidgets import interact, interactive, fixed, interact_manual\n",
    "import ipywidgets as widgets\n",
    "from IPython.display import display"
   ]
  },
  {
   "cell_type": "markdown",
   "metadata": {
    "slideshow": {
     "slide_type": "slide"
    }
   },
   "source": [
    "# DT1-Glied\n",
    "###### Von Stefan Maier\n"
   ]
  },
  {
   "cell_type": "markdown",
   "metadata": {},
   "source": [
    "## Sprungantwort\n"
   ]
  },
  {
   "cell_type": "code",
   "execution_count": 41,
   "metadata": {},
   "outputs": [
    {
     "data": {
      "application/vnd.jupyter.widget-view+json": {
       "model_id": "6496448d510348a39cb84c2d72d399b1",
       "version_major": 2,
       "version_minor": 0
      },
      "text/plain": [
       "interactive(children=(FloatSlider(value=2.0, description='K', max=30.0, min=1.0), FloatSlider(value=2.0, descr…"
      ]
     },
     "metadata": {},
     "output_type": "display_data"
    }
   ],
   "source": [
    "def DT1SprungAntwort(K = 2, T = 2, time=20):\n",
    "    t=np.arange(-10,time,0.05)\n",
    "    tangentenwerte=np.arange(0,5,0.05)\n",
    "    h=(K/T)*np.exp(-t/T)*np.heaviside(t,0)\n",
    "    tangente=-(K/(T*T))*tangentenwerte+K/T\n",
    "    fig, ax, = plt.subplots(1, 1)\n",
    "    plt.plot(tangentenwerte,tangente)\n",
    "    ax.plot(t,h)\n",
    "    ax.set_xlabel(\"Zeit(t)\")\n",
    "    ax.set_ylabel(\"Wert von h(t)\")\n",
    "    ax.grid(True)\n",
    "    \n",
    "    plt.show()\n",
    "DT1SprungantwortSimulator = interactive( DT1SprungAntwort,\n",
    "                                      K = (1,30,0.1),\n",
    "                                      T = (1,30,0.1),\n",
    "                                      time=(1,1000,1))\n",
    "display(DT1SprungantwortSimulator)"
   ]
  },
  {
   "cell_type": "markdown",
   "metadata": {},
   "source": [
    "## Lapalace Transoformatios für die Übertragungsfunktion"
   ]
  },
  {
   "cell_type": "code",
   "execution_count": null,
   "metadata": {},
   "outputs": [],
   "source": []
  }
 ],
 "metadata": {
  "celltoolbar": "Slideshow",
  "kernelspec": {
   "display_name": "Python 3",
   "language": "python",
   "name": "python3"
  },
  "language_info": {
   "codemirror_mode": {
    "name": "ipython",
    "version": 3
   },
   "file_extension": ".py",
   "mimetype": "text/x-python",
   "name": "python",
   "nbconvert_exporter": "python",
   "pygments_lexer": "ipython3",
   "version": "3.7.5"
  }
 },
 "nbformat": 4,
 "nbformat_minor": 4
}

{
 "cells": [
  {
   "cell_type": "markdown",
   "metadata": {
    "slideshow": {
     "slide_type": "slide"
    }
   },
   "source": [
    "# DT1-Glied\n",
    "\n",
    "\n",
    "\n",
    "\n",
    "<center>von Stefan Maier (Matrikelnr.:7514857)</center>"
   ]
  },
  {
   "cell_type": "markdown",
   "metadata": {
    "slideshow": {
     "slide_type": "slide"
    }
   },
   "source": [
    "## Charakteristische Gleichung\n",
    "\n",
    "- Ein DT1-Glied ist ein Differenzierer mit Verzögerung 1.Ordnung\n",
    "- Folgende Differenzengleichung beschreibt das DT1 Glied\n",
    "\n",
    "<center>$y(t)=K\\cdot \\dot{u}(t)-T\\cdot \\dot{y}(t) \\>$ mit $T>0$</center> \n",
    "\n",
    "- $K$ ist Verstärkung des Eingang\n",
    "- $T$ ist Zeitkonstante des Systems\n",
    "- Ist ein zeitkontinuierliches LZI-System"
   ]
  },
  {
   "cell_type": "markdown",
   "metadata": {
    "slideshow": {
     "slide_type": "slide"
    }
   },
   "source": [
    "## Blockschaltbild Darstellung\n",
    "\n",
    "- Ein DT1 Glied lässt sich schematisch in einem Blockschaltbild aus Kombination eines D-Glied mit einem PT1-Glied kombiniere\n",
    " - Dies lässt sich aus den Gleichungen des D-Gliedes und des PT1-Gliedes ableiten\n",
    "\n",
    "Somit lässt sich ein DT1-Glied folgendermaßen in einem Blockschaltbild beschreiben:\n",
    "\n",
    "<img src=\"./Bilder/Bildschirmfoto vom 2020-06-02 17-48-42.png\"></img>\n",
    "\n",
    "Die Darstellung mit Elementaren Übertragungsglieder sieht wiefolgt aus:\n",
    "<img src=\"./Bilder/Bildschirmfoto vom 2020-06-02 18-02-30.png\"></img>"
   ]
  },
  {
   "cell_type": "markdown",
   "metadata": {
    "slideshow": {
     "slide_type": "slide"
    }
   },
   "source": [
    "## Sprungantwort des DT1-Glieds\n",
    "\n",
    "- Aus dem Vorwärtsproblem und Anfangswertproblem lässt sich mittels der charakteristischen Differentialgleichung die Sprungantwort berechnen:\n",
    "\n",
    "<b>Sprungantwort</b>\n",
    "<center>$h(t)=\\frac{K}{T} \\cdot e^\\frac{-t}{T}\\cdot \\sigma(t)$</center>\n",
    "\n",
    "- Durch das $\\sigma$ ist zu erkennen das das System Kausal ist und somit nicht vor dem Zeitpunkt 0 angeregt werden kann.\n",
    "- Zum zeitpunkt $t=0$ besitzt das DT1 Glied den Wert $\\frac{K}{T}$ was durch die Konstanten $K$ und $T$ des DT1 Glieds bestimmt werden."
   ]
  },
  {
   "cell_type": "code",
   "execution_count": null,
   "metadata": {},
   "outputs": [],
   "source": []
  }
 ],
 "metadata": {
  "celltoolbar": "Slideshow",
  "kernelspec": {
   "display_name": "Python 3",
   "language": "python",
   "name": "python3"
  },
  "language_info": {
   "codemirror_mode": {
    "name": "ipython",
    "version": 3
   },
   "file_extension": ".py",
   "mimetype": "text/x-python",
   "name": "python",
   "nbconvert_exporter": "python",
   "pygments_lexer": "ipython3",
   "version": "3.8.2"
  }
 },
 "nbformat": 4,
 "nbformat_minor": 4
}
